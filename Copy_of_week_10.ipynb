{
  "nbformat": 4,
  "nbformat_minor": 0,
  "metadata": {
    "colab": {
      "provenance": [],
      "include_colab_link": true
    },
    "kernelspec": {
      "name": "python3",
      "display_name": "Python 3"
    },
    "language_info": {
      "name": "python"
    }
  },
  "cells": [
    {
      "cell_type": "markdown",
      "metadata": {
        "id": "view-in-github",
        "colab_type": "text"
      },
      "source": [
        "<a href=\"https://colab.research.google.com/github/trusso5/ds1002-stx3xt/blob/main/Copy_of_week_10.ipynb\" target=\"_parent\"><img src=\"https://colab.research.google.com/assets/colab-badge.svg\" alt=\"Open In Colab\"/></a>"
      ]
    },
    {
      "cell_type": "markdown",
      "source": [
        "# Homework - Week 10\n",
        "\n",
        "Complete the following blocks as specified in the directions. Run each cell to return the desired output. Save your notebook back to your GitHub repository and submit the GitHub URL to your notebook for review."
      ],
      "metadata": {
        "id": "phbaQTT5gy8A"
      }
    },
    {
      "cell_type": "markdown",
      "source": [
        "## Class Basics\n",
        "\n",
        "Closely inspect the class below and answer the questions in the following cells."
      ],
      "metadata": {
        "id": "38Pg39pMrDua"
      }
    },
    {
      "cell_type": "code",
      "source": [
        "\n",
        "class Products:\n",
        "  def __init__(self, id, name, price, description, manufacturer):\n",
        "    self.id = id\n",
        "    self.name = name\n",
        "    self.price = price\n",
        "    self.description = description\n",
        "    self.manufacturer = manufacturer\n",
        "\n",
        "  def print_product(self):\n",
        "    print(f\"Product {self.id} is {self.name} made by {self.manufacturer}. It costs ${self.price}\")\n"
      ],
      "metadata": {
        "id": "kdFLCHtOg53p"
      },
      "execution_count": 3,
      "outputs": []
    },
    {
      "cell_type": "code",
      "source": [
        "# What are the attributes of this class?\n",
        "\n",
        "Its attributes are: id, name, price, description and manufacturer"
      ],
      "metadata": {
        "id": "SG85PC5Q0oSi"
      },
      "execution_count": null,
      "outputs": []
    },
    {
      "cell_type": "code",
      "source": [
        "# In one line of code, create an instance of the class populating its attributes.\n",
        "\n",
        "product_populating = Products(id=1, name=\"Beverage\", price=2, description=\"Wild Berry Celsius\", manufacturer=\"Celsius\")"
      ],
      "metadata": {
        "id": "ckuUZlUc0q8D"
      },
      "execution_count": 46,
      "outputs": []
    },
    {
      "cell_type": "code",
      "source": [
        "# Referencing the instance you just created, what code is required to print out the name of the instance?\n",
        "print(product_populating.name)"
      ],
      "metadata": {
        "id": "Ksp2TAiM0u5t",
        "colab": {
          "base_uri": "https://localhost:8080/"
        },
        "outputId": "9cedac15-0ad9-4f7f-a756-59d948ad4970"
      },
      "execution_count": 47,
      "outputs": [
        {
          "output_type": "stream",
          "name": "stdout",
          "text": [
            "Beverage\n"
          ]
        }
      ]
    },
    {
      "cell_type": "markdown",
      "source": [
        "## Class Methods"
      ],
      "metadata": {
        "id": "0jQs4JYU2Kfh"
      }
    },
    {
      "cell_type": "code",
      "source": [
        "# Using the instance you created above, call the `print_product` method properly in a line of code.\n",
        "\n",
        "product_populating.print_product()\n"
      ],
      "metadata": {
        "id": "aO-zWkhd172f",
        "colab": {
          "base_uri": "https://localhost:8080/"
        },
        "outputId": "0d98dd4d-5b1a-4282-acd0-0dbdfb3070e7"
      },
      "execution_count": 48,
      "outputs": [
        {
          "output_type": "stream",
          "name": "stdout",
          "text": [
            "Product 1 is Beverage made by Celsius. It costs $2\n"
          ]
        }
      ]
    },
    {
      "cell_type": "code",
      "source": [
        "# Now declare the class again (copy + paste from above). But now add a NEW method that you write.\n",
        "# This method should create a new attribute called \"sales_price\" that is 80% of the normal price.\n",
        "\n",
        "class Products:\n",
        "  def __init__(self, id, name, price, description, manufacturer):\n",
        "    self.id = id\n",
        "    self.name = name\n",
        "    self.price = price\n",
        "    self.description = description\n",
        "    self.manufacturer = manufacturer\n",
        "\n",
        "  def print_product(self):\n",
        "    print(f\"Product {self.id} is {self.name} made by {self.manufacturer}. It costs ${self.price}\")\n",
        "\n",
        "  def sales_price(self):\n",
        "    self.sales_price = self.price * 0.8\n",
        "    print(f\"The {self.description} product is on sale for ${self.sales_price}\")\n",
        "\n",
        "sale_populating = Products(id=1, name=\"Wild Berry Energy Beverage\", price=2, description=\"Wild Berry Celsius\", manufacturer=\"Celsius\")\n",
        "sale_populating.sales_price()\n",
        "# Finally, write this method to print out a statement like \"The ________ product is on sale for _____\"\n",
        "# where you fill in the blanks with the name and sales_price of the product.\n",
        "\n",
        "\n"
      ],
      "metadata": {
        "id": "75apcUeJ2VQo",
        "colab": {
          "base_uri": "https://localhost:8080/"
        },
        "outputId": "6c6656b0-27c3-4e7d-97d0-38e3de3a1a7f"
      },
      "execution_count": 51,
      "outputs": [
        {
          "output_type": "stream",
          "name": "stdout",
          "text": [
            "The Wild Berry Celsius product is on sale for $1.6\n"
          ]
        }
      ]
    },
    {
      "cell_type": "code",
      "source": [
        "# Execute the class above\n",
        "sale_populating = Products(id=1, name=\"Wild Berry Energy Beverage\", price=2, description=\"Wild Berry Celsius\", manufacturer=\"Celsius\")\n",
        "sale_populating.sales_price()\n"
      ],
      "metadata": {
        "id": "TZiNWOl_2-oh",
        "colab": {
          "base_uri": "https://localhost:8080/"
        },
        "outputId": "0a91e012-4c81-4e2d-d624-a36f74722726"
      },
      "execution_count": 53,
      "outputs": [
        {
          "output_type": "stream",
          "name": "stdout",
          "text": [
            "The Wild Berry Celsius product is on sale for $1.6\n"
          ]
        }
      ]
    },
    {
      "cell_type": "code",
      "source": [
        "# Now create an instance of the class with new values.\n",
        "\n",
        "class Products:\n",
        "  def __init__(self, id, name, price, description, manufacturer):\n",
        "    self.id = id\n",
        "    self.name = name\n",
        "    self.price = price\n",
        "    self.description = description\n",
        "    self.manufacturer = manufacturer\n",
        "\n",
        "  def print_product(self):\n",
        "    print(f\"Product {self.id} is {self.name} made by {self.manufacturer}. It costs ${self.price}\")\n",
        "\n",
        "  def sales_price(self):\n",
        "    self.sales_price = self.price * 0.8\n",
        "    print(f\"The {self.description} product is on sale for ${self.sales_price}\")\n",
        "\n",
        "product_populating2 = Products(id=2, name=\"Kiwi Guava Energy Beverage\", price=4, description=\"Kiwi Guava Celsius\", manufacturer=\"Celsius\")\n",
        "product_populating2.print_product()\n"
      ],
      "metadata": {
        "id": "TT8qK1Ie3EVX",
        "colab": {
          "base_uri": "https://localhost:8080/"
        },
        "outputId": "23987e2f-03e4-46ef-f041-3e50bbb9035f"
      },
      "execution_count": 45,
      "outputs": [
        {
          "output_type": "stream",
          "name": "stdout",
          "text": [
            "Product 2 is Kiwi Guava Energy Beverage made by Celsius. It costs $3\n"
          ]
        }
      ]
    },
    {
      "cell_type": "code",
      "source": [
        "# Finally, using the instance you just created, invoke the new method you wrote. Be sure it prints\n",
        "# the desired text described above.\n",
        "\n",
        "product_populating2 = Products(id=2, name=\"Kiwi Guava Energy Beverage\", price=4, description=\"Kiwi Guava Celsius\", manufacturer=\"Celsius\")\n",
        "product_populating2.sales_price()"
      ],
      "metadata": {
        "id": "mobnFcMw3Icp",
        "colab": {
          "base_uri": "https://localhost:8080/"
        },
        "outputId": "11529e92-8130-43a1-bcdf-e232cdaef07d"
      },
      "execution_count": 57,
      "outputs": [
        {
          "output_type": "stream",
          "name": "stdout",
          "text": [
            "The Kiwi Guava Celsius product is on sale for $3.2\n"
          ]
        }
      ]
    }
  ]
}