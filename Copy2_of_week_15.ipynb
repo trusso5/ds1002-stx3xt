{
  "nbformat": 4,
  "nbformat_minor": 0,
  "metadata": {
    "colab": {
      "provenance": [],
      "include_colab_link": true
    },
    "kernelspec": {
      "name": "ir",
      "display_name": "R"
    },
    "language_info": {
      "name": "R"
    }
  },
  "cells": [
    {
      "cell_type": "markdown",
      "metadata": {
        "id": "view-in-github",
        "colab_type": "text"
      },
      "source": [
        "<a href=\"https://colab.research.google.com/github/trusso5/ds1002-stx3xt/blob/main/Copy2_of_week_15.ipynb\" target=\"_parent\"><img src=\"https://colab.research.google.com/assets/colab-badge.svg\" alt=\"Open In Colab\"/></a>"
      ]
    },
    {
      "cell_type": "markdown",
      "source": [
        "# Homework - Week 15\n",
        "\n",
        "Complete the following blocks as specified in the directions. Run each cell to return the desired output. Save your notebook back to your GitHub repository and submit the GitHub URL to your notebook for review."
      ],
      "metadata": {
        "id": "sZruw3XQogej"
      }
    },
    {
      "cell_type": "markdown",
      "source": [
        "## 1. Create Functions (4 pts)\n",
        "\n",
        "Create two functions in the cells below, according to the prompts given."
      ],
      "metadata": {
        "id": "lkaofBQypx1X"
      }
    },
    {
      "cell_type": "code",
      "source": [
        "# create a function in R that:\n",
        "#   1. takes a single integer as an input parameter\n",
        "#   2. determines whether the integer is even or odd\n",
        "#   3. returns a character statement \"The integer <x> is even\" or \"The integer <x> is odd\" (replace <x> with the actual input provided)\n",
        "#\n",
        "# then execute the function twice using two different input values, displaying even and odd results.\n",
        "\n",
        "even_or_odd <- function(x)\n",
        "\n",
        "{\n",
        "  if (x %% 2 == 0) {\n",
        "    return(paste(\"The integer\", x, \"is even\"))\n",
        "  } else {\n",
        "    return(paste(\"The integer\", x, \"is odd\"))\n",
        "  }\n",
        "}\n",
        "\n",
        "testone <- check_even_odd(893)\n",
        "testtwo <- check_even_odd(124358)\n",
        "\n",
        "print(testone)\n",
        "print(testtwo)"
      ],
      "metadata": {
        "id": "1fjq5bkEp6Zv",
        "colab": {
          "base_uri": "https://localhost:8080/"
        },
        "outputId": "c1788159-e2bf-4319-e410-11c6802df129"
      },
      "execution_count": 171,
      "outputs": [
        {
          "output_type": "stream",
          "name": "stdout",
          "text": [
            "[1] \"The integer 893 is odd\"\n",
            "[1] \"The integer 124358 is even\"\n"
          ]
        }
      ]
    },
    {
      "cell_type": "code",
      "source": [
        "# create a function in R that:\n",
        "#   1. takes 4 integer input parameters\n",
        "#   2. returns the mean value of the inputs\n",
        "#   3. has default values for the 4 input parameters, in case they are not provided when the function is called.\n",
        "#\n",
        "# then execute the function twice: once where you provide the input values, and once where you do not.\n",
        "\n",
        "\n",
        "\n",
        "meanfinder <- function(q = 1, w = 1, e = 1, r = 1) {\n",
        "  meann <- mean(c(q, w, e, r))\n",
        "  return(meann)\n",
        "}\n",
        "\n",
        "existing_values <- meanfinder()\n",
        "values_provided <- meanfinder(1900, 4, 6, 8)\n",
        "\n",
        "print(values_provided)\n",
        "print(existing_values)"
      ],
      "metadata": {
        "id": "f3IFD-T6p6Rd",
        "colab": {
          "base_uri": "https://localhost:8080/"
        },
        "outputId": "ca3e1800-3382-45b0-9fd8-7fcc860ec11e"
      },
      "execution_count": null,
      "outputs": [
        {
          "output_type": "stream",
          "name": "stdout",
          "text": [
            "[1] 479.5\n",
            "[1] 1\n"
          ]
        }
      ]
    },
    {
      "cell_type": "markdown",
      "source": [
        "## 2. Plot Data (4 pts)"
      ],
      "metadata": {
        "id": "F6Rx0GIGrpOB"
      }
    },
    {
      "cell_type": "markdown",
      "source": [
        "In the cell below, write the code required to plot from the `msleep` sample data set.\n",
        "\n",
        "1. Display only animals with body weights of 30 or greater.\n",
        "2. Group the animals by `order`.\n",
        "3. Display the mean `sleep_total` for each group in a bar plot."
      ],
      "metadata": {
        "id": "IDLyOjOJsFCX"
      }
    },
    {
      "cell_type": "code",
      "source": [
        "library(ggplot2)\n",
        "library(dplyr)\n",
        "data(msleep)\n",
        "colnames(msleep)\n",
        "\n",
        "fat_animals <- msleep %>%\n",
        "  filter(bodywt >= 30) %>%\n",
        "  group_by(order) %>%\n",
        "  summarise(avg_sleep = mean(sleep_total))\n",
        "\n",
        "ggplot(fat_animals, aes(x=order, y=avg_sleep)) +\n",
        "  geom_bar(stat = \"identity\")"
      ],
      "metadata": {
        "id": "0D5Ia-BPsoPZ",
        "colab": {
          "base_uri": "https://localhost:8080/",
          "height": 454
        },
        "outputId": "b4528317-d0f2-45b1-d2cd-ab3d571375a4"
      },
      "execution_count": null,
      "outputs": [
        {
          "output_type": "display_data",
          "data": {
            "text/html": [
              "<style>\n",
              ".list-inline {list-style: none; margin:0; padding: 0}\n",
              ".list-inline>li {display: inline-block}\n",
              ".list-inline>li:not(:last-child)::after {content: \"\\00b7\"; padding: 0 .5ex}\n",
              "</style>\n",
              "<ol class=list-inline><li>'name'</li><li>'genus'</li><li>'vore'</li><li>'order'</li><li>'conservation'</li><li>'sleep_total'</li><li>'sleep_rem'</li><li>'sleep_cycle'</li><li>'awake'</li><li>'brainwt'</li><li>'bodywt'</li></ol>\n"
            ],
            "text/markdown": "1. 'name'\n2. 'genus'\n3. 'vore'\n4. 'order'\n5. 'conservation'\n6. 'sleep_total'\n7. 'sleep_rem'\n8. 'sleep_cycle'\n9. 'awake'\n10. 'brainwt'\n11. 'bodywt'\n\n\n",
            "text/latex": "\\begin{enumerate*}\n\\item 'name'\n\\item 'genus'\n\\item 'vore'\n\\item 'order'\n\\item 'conservation'\n\\item 'sleep\\_total'\n\\item 'sleep\\_rem'\n\\item 'sleep\\_cycle'\n\\item 'awake'\n\\item 'brainwt'\n\\item 'bodywt'\n\\end{enumerate*}\n",
            "text/plain": [
              " [1] \"name\"         \"genus\"        \"vore\"         \"order\"        \"conservation\"\n",
              " [6] \"sleep_total\"  \"sleep_rem\"    \"sleep_cycle\"  \"awake\"        \"brainwt\"     \n",
              "[11] \"bodywt\"      "
            ]
          },
          "metadata": {}
        },
        {
          "output_type": "display_data",
          "data": {
            "text/plain": [
              "plot without title"
            ],
            "image/png": "[encoded data removed]"
          },
          "metadata": {
            "image/png": {
              "width": 420,
              "height": 420
            }
          }
        }
      ]
    },
    {
      "cell_type": "markdown",
      "source": [
        "## 3. Clean and Analyze Data Using R (4 pts)\n",
        "\n",
        "In the cells below use R to perform the following data cleaning steps on this file:\n",
        "https://raw.githubusercontent.com/nmagee/ds1002/main/data/social-media-users.csv\n",
        "\n",
        "1. Remove any duplicate rows.\n",
        "2. Remove any records where `last_login` or `birthdate` are empty.\n",
        "3. Display only the records with the 10 highest `follower` counts.\n",
        "4. Determine counts of users when grouped by continent."
      ],
      "metadata": {
        "id": "-2ZaFcCCv3o8"
      }
    },
    {
      "cell_type": "code",
      "source": [
        "library(dplyr)\n",
        "library(readr)\n",
        "install.packages(\"dplyr\")\n",
        "install.packages(\"readr\")\n",
        "\n",
        "\n",
        "df <- read.csv(\"https://raw.githubusercontent.com/nmagee/ds1002/main/data/social-media-users.csv\")\n",
        "\n",
        "\n",
        "nrow(df[duplicated(df), ])\n",
        "df2 <- df[!duplicated(df), ]\n",
        "df2$continent[is.na(df2$continent)] <- \"NA\"\n",
        "df2[df2 == \"NA\"] <- \"North America\"\n",
        "df2$last_login[df2$last_login==\"\"] <- NA\n",
        "df2$birthdate[df2$birthdate==\"\"] <- NA\n",
        "\n",
        "df3 <- na.omit(df2)\n",
        "\n",
        "df4 <- df3[order(desc(df3$followers)),]\n",
        "head(df4, 10)\n",
        "\n",
        "df5 <- df4 %>%\n",
        "  group_by(continent) %>%\n",
        "  summarise(count = n())\n",
        "\n",
        "df5\n"
      ],
      "metadata": {
        "id": "MjrZisnxlJUa",
        "colab": {
          "base_uri": "https://localhost:8080/",
          "height": 805
        },
        "outputId": "ff2512a1-ba41-4bda-c6c2-8c22c735cdeb"
      },
      "execution_count": 170,
      "outputs": [
        {
          "output_type": "stream",
          "name": "stderr",
          "text": [
            "Installing package into ‘/usr/local/lib/R/site-library’\n",
            "(as ‘lib’ is unspecified)\n",
            "\n",
            "Installing package into ‘/usr/local/lib/R/site-library’\n",
            "(as ‘lib’ is unspecified)\n",
            "\n"
          ]
        },
        {
          "output_type": "display_data",
          "data": {
            "text/html": [
              "318"
            ],
            "text/markdown": "318",
            "text/latex": "318",
            "text/plain": [
              "[1] 318"
            ]
          },
          "metadata": {}
        },
        {
          "output_type": "display_data",
          "data": {
            "text/html": [
              "<table class=\"dataframe\">\n",
              "<caption>A data.frame: 10 × 8</caption>\n",
              "<thead>\n",
              "\t<tr><th></th><th scope=col>username</th><th scope=col>full_name</th><th scope=col>birthdate</th><th scope=col>email</th><th scope=col>continent</th><th scope=col>followers</th><th scope=col>last_login</th><th scope=col>interests</th></tr>\n",
              "\t<tr><th></th><th scope=col>&lt;chr&gt;</th><th scope=col>&lt;chr&gt;</th><th scope=col>&lt;chr&gt;</th><th scope=col>&lt;chr&gt;</th><th scope=col>&lt;chr&gt;</th><th scope=col>&lt;int&gt;</th><th scope=col>&lt;chr&gt;</th><th scope=col>&lt;chr&gt;</th></tr>\n",
              "</thead>\n",
              "<tbody>\n",
              "\t<tr><th scope=row>721</th><td>lleckeyb6    </td><td>Lynne Leckey        </td><td>4/19/1998 </td><td>lleckeyb6@tripadvisor.com</td><td>SA           </td><td>99977</td><td>3/14/2021 </td><td>sports</td></tr>\n",
              "\t<tr><th scope=row>681</th><td>spharoaha2   </td><td>Staci Pharoah       </td><td>9/2/1985  </td><td>spharoaha2@sfgate.com    </td><td>North America</td><td>99905</td><td>10/26/2023</td><td>sports</td></tr>\n",
              "\t<tr><th scope=row>821</th><td>cduftondy    </td><td>Celisse Dufton      </td><td>8/24/1995 </td><td>cduftondy@ox.ac.uk       </td><td>OC           </td><td>99707</td><td>9/26/2021 </td><td>sports</td></tr>\n",
              "\t<tr><th scope=row>578</th><td>dbartalin77  </td><td>Desiree Bartalin    </td><td>8/23/1993 </td><td>dbartalin77@usda.gov     </td><td>AF           </td><td>99618</td><td>5/30/2022 </td><td>music </td></tr>\n",
              "\t<tr><th scope=row>1136</th><td>grivardmp    </td><td>Gwen Rivard         </td><td>9/12/1982 </td><td>grivardmp@google.com.hk  </td><td>OC           </td><td>99526</td><td>4/4/2020  </td><td>music </td></tr>\n",
              "\t<tr><th scope=row>659</th><td>mraggitt9g   </td><td>Morgan Raggitt      </td><td>11/16/1992</td><td>mraggitt9g@home.pl       </td><td>North America</td><td>99508</td><td>11/12/2021</td><td>music </td></tr>\n",
              "\t<tr><th scope=row>830</th><td>wbenese7     </td><td>Wain Benes          </td><td>3/9/1998  </td><td>wbenese7@ebay.com        </td><td>North America</td><td>99400</td><td>10/1/2021 </td><td>travel</td></tr>\n",
              "\t<tr><th scope=row>960</th><td>kmorriceht   </td><td>Kitti Morrice       </td><td>6/3/1995  </td><td>kmorriceht@privacy.gov.au</td><td>SA           </td><td>98936</td><td>3/24/2021 </td><td>sports</td></tr>\n",
              "\t<tr><th scope=row>595</th><td>smacdonnell7o</td><td>Shoshanna MacDonnell</td><td>9/12/2002 </td><td>smacdonnell7o@toplist.cz </td><td>AS           </td><td>98760</td><td>7/20/2021 </td><td>music </td></tr>\n",
              "\t<tr><th scope=row>113</th><td>dcossum34    </td><td>Dwain Cossum        </td><td>9/9/1990  </td><td>dcossum34@dagondesign.com</td><td>North America</td><td>98743</td><td>6/7/2021  </td><td>sports</td></tr>\n",
              "</tbody>\n",
              "</table>\n"
            ],
            "text/markdown": "\nA data.frame: 10 × 8\n\n| <!--/--> | username &lt;chr&gt; | full_name &lt;chr&gt; | birthdate &lt;chr&gt; | email &lt;chr&gt; | continent &lt;chr&gt; | followers &lt;int&gt; | last_login &lt;chr&gt; | interests &lt;chr&gt; |\n|---|---|---|---|---|---|---|---|---|\n| 721 | lleckeyb6     | Lynne Leckey         | 4/19/1998  | lleckeyb6@tripadvisor.com | SA            | 99977 | 3/14/2021  | sports |\n| 681 | spharoaha2    | Staci Pharoah        | 9/2/1985   | spharoaha2@sfgate.com     | North America | 99905 | 10/26/2023 | sports |\n| 821 | cduftondy     | Celisse Dufton       | 8/24/1995  | cduftondy@ox.ac.uk        | OC            | 99707 | 9/26/2021  | sports |\n| 578 | dbartalin77   | Desiree Bartalin     | 8/23/1993  | dbartalin77@usda.gov      | AF            | 99618 | 5/30/2022  | music  |\n| 1136 | grivardmp     | Gwen Rivard          | 9/12/1982  | grivardmp@google.com.hk   | OC            | 99526 | 4/4/2020   | music  |\n| 659 | mraggitt9g    | Morgan Raggitt       | 11/16/1992 | mraggitt9g@home.pl        | North America | 99508 | 11/12/2021 | music  |\n| 830 | wbenese7      | Wain Benes           | 3/9/1998   | wbenese7@ebay.com         | North America | 99400 | 10/1/2021  | travel |\n| 960 | kmorriceht    | Kitti Morrice        | 6/3/1995   | kmorriceht@privacy.gov.au | SA            | 98936 | 3/24/2021  | sports |\n| 595 | smacdonnell7o | Shoshanna MacDonnell | 9/12/2002  | smacdonnell7o@toplist.cz  | AS            | 98760 | 7/20/2021  | music  |\n| 113 | dcossum34     | Dwain Cossum         | 9/9/1990   | dcossum34@dagondesign.com | North America | 98743 | 6/7/2021   | sports |\n\n",
            "text/latex": "A data.frame: 10 × 8\n\\begin{tabular}{r|llllllll}\n  & username & full\\_name & birthdate & email & continent & followers & last\\_login & interests\\\\\n  & <chr> & <chr> & <chr> & <chr> & <chr> & <int> & <chr> & <chr>\\\\\n\\hline\n\t721 & lleckeyb6     & Lynne Leckey         & 4/19/1998  & lleckeyb6@tripadvisor.com & SA            & 99977 & 3/14/2021  & sports\\\\\n\t681 & spharoaha2    & Staci Pharoah        & 9/2/1985   & spharoaha2@sfgate.com     & North America & 99905 & 10/26/2023 & sports\\\\\n\t821 & cduftondy     & Celisse Dufton       & 8/24/1995  & cduftondy@ox.ac.uk        & OC            & 99707 & 9/26/2021  & sports\\\\\n\t578 & dbartalin77   & Desiree Bartalin     & 8/23/1993  & dbartalin77@usda.gov      & AF            & 99618 & 5/30/2022  & music \\\\\n\t1136 & grivardmp     & Gwen Rivard          & 9/12/1982  & grivardmp@google.com.hk   & OC            & 99526 & 4/4/2020   & music \\\\\n\t659 & mraggitt9g    & Morgan Raggitt       & 11/16/1992 & mraggitt9g@home.pl        & North America & 99508 & 11/12/2021 & music \\\\\n\t830 & wbenese7      & Wain Benes           & 3/9/1998   & wbenese7@ebay.com         & North America & 99400 & 10/1/2021  & travel\\\\\n\t960 & kmorriceht    & Kitti Morrice        & 6/3/1995   & kmorriceht@privacy.gov.au & SA            & 98936 & 3/24/2021  & sports\\\\\n\t595 & smacdonnell7o & Shoshanna MacDonnell & 9/12/2002  & smacdonnell7o@toplist.cz  & AS            & 98760 & 7/20/2021  & music \\\\\n\t113 & dcossum34     & Dwain Cossum         & 9/9/1990   & dcossum34@dagondesign.com & North America & 98743 & 6/7/2021   & sports\\\\\n\\end{tabular}\n",
            "text/plain": [
              "     username      full_name            birthdate  email                    \n",
              "721  lleckeyb6     Lynne Leckey         4/19/1998  lleckeyb6@tripadvisor.com\n",
              "681  spharoaha2    Staci Pharoah        9/2/1985   spharoaha2@sfgate.com    \n",
              "821  cduftondy     Celisse Dufton       8/24/1995  cduftondy@ox.ac.uk       \n",
              "578  dbartalin77   Desiree Bartalin     8/23/1993  dbartalin77@usda.gov     \n",
              "1136 grivardmp     Gwen Rivard          9/12/1982  grivardmp@google.com.hk  \n",
              "659  mraggitt9g    Morgan Raggitt       11/16/1992 mraggitt9g@home.pl       \n",
              "830  wbenese7      Wain Benes           3/9/1998   wbenese7@ebay.com        \n",
              "960  kmorriceht    Kitti Morrice        6/3/1995   kmorriceht@privacy.gov.au\n",
              "595  smacdonnell7o Shoshanna MacDonnell 9/12/2002  smacdonnell7o@toplist.cz \n",
              "113  dcossum34     Dwain Cossum         9/9/1990   dcossum34@dagondesign.com\n",
              "     continent     followers last_login interests\n",
              "721  SA            99977     3/14/2021  sports   \n",
              "681  North America 99905     10/26/2023 sports   \n",
              "821  OC            99707     9/26/2021  sports   \n",
              "578  AF            99618     5/30/2022  music    \n",
              "1136 OC            99526     4/4/2020   music    \n",
              "659  North America 99508     11/12/2021 music    \n",
              "830  North America 99400     10/1/2021  travel   \n",
              "960  SA            98936     3/24/2021  sports   \n",
              "595  AS            98760     7/20/2021  music    \n",
              "113  North America 98743     6/7/2021   sports   "
            ]
          },
          "metadata": {}
        },
        {
          "output_type": "display_data",
          "data": {
            "text/html": [
              "<table class=\"dataframe\">\n",
              "<caption>A tibble: 6 × 2</caption>\n",
              "<thead>\n",
              "\t<tr><th scope=col>continent</th><th scope=col>count</th></tr>\n",
              "\t<tr><th scope=col>&lt;chr&gt;</th><th scope=col>&lt;int&gt;</th></tr>\n",
              "</thead>\n",
              "<tbody>\n",
              "\t<tr><td>AF           </td><td> 70</td></tr>\n",
              "\t<tr><td>AS           </td><td>111</td></tr>\n",
              "\t<tr><td>EU           </td><td> 77</td></tr>\n",
              "\t<tr><td>North America</td><td>228</td></tr>\n",
              "\t<tr><td>OC           </td><td> 95</td></tr>\n",
              "\t<tr><td>SA           </td><td> 69</td></tr>\n",
              "</tbody>\n",
              "</table>\n"
            ],
            "text/markdown": "\nA tibble: 6 × 2\n\n| continent &lt;chr&gt; | count &lt;int&gt; |\n|---|---|\n| AF            |  70 |\n| AS            | 111 |\n| EU            |  77 |\n| North America | 228 |\n| OC            |  95 |\n| SA            |  69 |\n\n",
            "text/latex": "A tibble: 6 × 2\n\\begin{tabular}{ll}\n continent & count\\\\\n <chr> & <int>\\\\\n\\hline\n\t AF            &  70\\\\\n\t AS            & 111\\\\\n\t EU            &  77\\\\\n\t North America & 228\\\\\n\t OC            &  95\\\\\n\t SA            &  69\\\\\n\\end{tabular}\n",
            "text/plain": [
              "  continent     count\n",
              "1 AF             70  \n",
              "2 AS            111  \n",
              "3 EU             77  \n",
              "4 North America 228  \n",
              "5 OC             95  \n",
              "6 SA             69  "
            ]
          },
          "metadata": {}
        }
      ]
    }
  ]
}