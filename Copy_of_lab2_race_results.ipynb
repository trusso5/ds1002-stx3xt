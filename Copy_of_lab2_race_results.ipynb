{
  "nbformat": 4,
  "nbformat_minor": 0,
  "metadata": {
    "colab": {
      "provenance": [],
      "include_colab_link": true
    },
    "kernelspec": {
      "name": "ir",
      "display_name": "R"
    },
    "language_info": {
      "name": "R"
    }
  },
  "cells": [
    {
      "cell_type": "markdown",
      "metadata": {
        "id": "view-in-github",
        "colab_type": "text"
      },
      "source": [
        "<a href=\"https://colab.research.google.com/github/trusso5/ds1002-stx3xt/blob/main/Copy_of_lab2_race_results.ipynb\" target=\"_parent\"><img src=\"https://colab.research.google.com/assets/colab-badge.svg\" alt=\"Open In Colab\"/></a>"
      ]
    },
    {
      "cell_type": "markdown",
      "source": [
        "# DS1002 Lab 2: Determine Race Results with R\n",
        "\n",
        "In this lab you will work with a dataset, writing R to generate the deliverables specified in the cells below.\n",
        "\n",
        "The dataset for this lab is made up of fictitious results from a road race. Runner information and results is provided in the data.\n",
        "\n",
        "Answer the questions below with the appropriate R code. Point assignments are indicated for each section. There are 10 total points possible for this lab.\n",
        "\n",
        "Useful reference material (check all R modules within the Canvas site for more help)\n",
        "- [R Reference Material](https://canvas.its.virginia.edu/courses/78571/modules#module_219810).\n",
        "- [Plots Samples](https://colab.research.google.com/github/nmagee/ds1002/blob/main/notebooks/25-plots-in-r.ipynb)"
      ],
      "metadata": {
        "id": "2yEePrJ-1G1Z"
      }
    },
    {
      "cell_type": "markdown",
      "source": [
        "## Group Submissions\n",
        "\n",
        "If you are working in a group to complete this lab, you may have no more than 3 members to a group. Group members should be indicated in the cell below -- list both names and UVA computing IDs.\n",
        "\n",
        "Each student should then submit **the same URL** for the lab in Canvas. (If a group has Member1, Member2, and Member3, only one member needs to save the completed work back to GitHub and all members should submit that URL for grading.)"
      ],
      "metadata": {
        "id": "acXFkytd2PWS"
      }
    },
    {
      "cell_type": "code",
      "source": [
        "# List group members (if applicable). Identify names and computing IDs\n",
        "#\n",
        "# Name                    Computing ID"
      ],
      "metadata": {
        "id": "4N8_o3tG232h"
      },
      "execution_count": null,
      "outputs": []
    },
    {
      "cell_type": "markdown",
      "source": [
        "## 1. Load Libraries & Data (1 pt)\n",
        "\n",
        "https://raw.githubusercontent.com/nmagee/ds1002/main/data/road-race.csv\n",
        "\n",
        "Import any necessary libraries and load the remote CSV file below into a data frame."
      ],
      "metadata": {
        "id": "w0VxTDNf1k2O"
      }
    },
    {
      "cell_type": "code",
      "execution_count": 1,
      "metadata": {
        "id": "I0B9chFD1GR0",
        "colab": {
          "base_uri": "https://localhost:8080/"
        },
        "outputId": "04045e64-2e0c-46fc-839a-9050afc406d3"
      },
      "outputs": [
        {
          "output_type": "stream",
          "name": "stderr",
          "text": [
            "\n",
            "Attaching package: ‘dplyr’\n",
            "\n",
            "\n",
            "The following objects are masked from ‘package:stats’:\n",
            "\n",
            "    filter, lag\n",
            "\n",
            "\n",
            "The following objects are masked from ‘package:base’:\n",
            "\n",
            "    intersect, setdiff, setequal, union\n",
            "\n",
            "\n",
            "Installing package into ‘/usr/local/lib/R/site-library’\n",
            "(as ‘lib’ is unspecified)\n",
            "\n",
            "Installing package into ‘/usr/local/lib/R/site-library’\n",
            "(as ‘lib’ is unspecified)\n",
            "\n"
          ]
        }
      ],
      "source": [
        "library(dplyr)\n",
        "library(readr)\n",
        "install.packages(\"dplyr\")\n",
        "install.packages(\"readr\")\n",
        "\n",
        "df <- read.csv(\"https://raw.githubusercontent.com/nmagee/ds1002/main/data/road-race.csv\")"
      ]
    },
    {
      "cell_type": "markdown",
      "source": [
        "## 2. Get Summary Data (1 pt)"
      ],
      "metadata": {
        "id": "H389W9dkobGI"
      }
    },
    {
      "cell_type": "markdown",
      "source": [
        "In code, display how many rows and columns are in the raw dataset."
      ],
      "metadata": {
        "id": "KA0wbjmE-4Q9"
      }
    },
    {
      "cell_type": "code",
      "source": [
        "#\n",
        "str(df)\n",
        "summary(df)\n"
      ],
      "metadata": {
        "id": "XhULtu7qox-p",
        "colab": {
          "base_uri": "https://localhost:8080/",
          "height": 374
        },
        "outputId": "6b66215b-613e-4f10-ea4d-0044c5ccbfe0"
      },
      "execution_count": 2,
      "outputs": [
        {
          "output_type": "stream",
          "name": "stdout",
          "text": [
            "'data.frame':\t764 obs. of  5 variables:\n",
            " $ runner_bib   : int  1 2 3 4 5 6 7 8 9 10 ...\n",
            " $ runner_name  : chr  \"Loydie Lopes\" \"Lorens Crispe\" \"Shirline Hasser\" \"Alleyn Hartshorn\" ...\n",
            " $ runner_age   : int  17 33 22 39 50 44 51 44 30 60 ...\n",
            " $ runner_gender: chr  \"Male\" \"Male\" \"Female\" \"Male\" ...\n",
            " $ finish_time  : chr  \"16:01\" \"15:40\" \"14:20\" \"17:06\" ...\n"
          ]
        },
        {
          "output_type": "display_data",
          "data": {
            "text/plain": [
              "   runner_bib     runner_name          runner_age    runner_gender     \n",
              " Min.   :  1.00   Length:764         Min.   :14.00   Length:764        \n",
              " 1st Qu.: 67.75   Class :character   1st Qu.:27.00   Class :character  \n",
              " Median :258.50   Mode  :character   Median :39.00   Mode  :character  \n",
              " Mean   :271.89                      Mean   :38.39                     \n",
              " 3rd Qu.:449.25                      3rd Qu.:50.00                     \n",
              " Max.   :640.00                      Max.   :62.00                     \n",
              " finish_time       \n",
              " Length:764        \n",
              " Class :character  \n",
              " Mode  :character  \n",
              "                   \n",
              "                   \n",
              "                   "
            ]
          },
          "metadata": {}
        }
      ]
    },
    {
      "cell_type": "markdown",
      "source": [
        "## 3. Clean and Organize the Data (2 pts)\n",
        "\n",
        "Check for data quality.\n",
        "\n",
        "- Resolve any duplicate rows.\n",
        "- If a runner does not have a finish time, they are DNF and should not be counted in the dataset.\n",
        "\n"
      ],
      "metadata": {
        "id": "abshX7QeooAs"
      }
    },
    {
      "cell_type": "code",
      "source": [
        "#\n",
        "nrow(df[duplicated(df), ])\n",
        "df2 <- df[!duplicated(df), ]\n",
        "#df2\n",
        "df2$finish_time[df2$finish_time==\"\"] <- NA\n",
        "df3 <- na.omit(df2)\n",
        "#df3"
      ],
      "metadata": {
        "id": "Aq3J7yD82uwW",
        "colab": {
          "base_uri": "https://localhost:8080/",
          "height": 34
        },
        "outputId": "b987e022-8533-45e4-c409-1773371a3972"
      },
      "execution_count": 3,
      "outputs": [
        {
          "output_type": "display_data",
          "data": {
            "text/html": [
              "124"
            ],
            "text/markdown": "124",
            "text/latex": "124",
            "text/plain": [
              "[1] 124"
            ]
          },
          "metadata": {}
        }
      ]
    },
    {
      "cell_type": "markdown",
      "source": [
        "Now display the first 10 rows of the cleaned dataset."
      ],
      "metadata": {
        "id": "Ccwu8bUx_Azj"
      }
    },
    {
      "cell_type": "code",
      "source": [
        "head(df3, 10)"
      ],
      "metadata": {
        "id": "1iVIskCs_Ewe",
        "colab": {
          "base_uri": "https://localhost:8080/",
          "height": 412
        },
        "outputId": "dfd17b16-8d80-45f1-d653-609c0f92d274"
      },
      "execution_count": 4,
      "outputs": [
        {
          "output_type": "display_data",
          "data": {
            "text/html": [
              "<table class=\"dataframe\">\n",
              "<caption>A data.frame: 10 × 5</caption>\n",
              "<thead>\n",
              "\t<tr><th></th><th scope=col>runner_bib</th><th scope=col>runner_name</th><th scope=col>runner_age</th><th scope=col>runner_gender</th><th scope=col>finish_time</th></tr>\n",
              "\t<tr><th></th><th scope=col>&lt;int&gt;</th><th scope=col>&lt;chr&gt;</th><th scope=col>&lt;int&gt;</th><th scope=col>&lt;chr&gt;</th><th scope=col>&lt;chr&gt;</th></tr>\n",
              "</thead>\n",
              "<tbody>\n",
              "\t<tr><th scope=row>1</th><td> 1</td><td>Loydie Lopes    </td><td>17</td><td>Male  </td><td>16:01</td></tr>\n",
              "\t<tr><th scope=row>2</th><td> 2</td><td>Lorens Crispe   </td><td>33</td><td>Male  </td><td>15:40</td></tr>\n",
              "\t<tr><th scope=row>3</th><td> 3</td><td>Shirline Hasser </td><td>22</td><td>Female</td><td>14:20</td></tr>\n",
              "\t<tr><th scope=row>4</th><td> 4</td><td>Alleyn Hartshorn</td><td>39</td><td>Male  </td><td>17:06</td></tr>\n",
              "\t<tr><th scope=row>5</th><td> 5</td><td>Wang MacColl    </td><td>50</td><td>Male  </td><td>16:49</td></tr>\n",
              "\t<tr><th scope=row>6</th><td> 6</td><td>Tonnie Tidder   </td><td>44</td><td>Male  </td><td>15:43</td></tr>\n",
              "\t<tr><th scope=row>8</th><td> 8</td><td>Basil Moxsom    </td><td>44</td><td>Male  </td><td>15:16</td></tr>\n",
              "\t<tr><th scope=row>9</th><td> 9</td><td>Lark Bragge     </td><td>30</td><td>Female</td><td>15:59</td></tr>\n",
              "\t<tr><th scope=row>10</th><td>10</td><td>Kent Wakely     </td><td>60</td><td>Male  </td><td>14:29</td></tr>\n",
              "\t<tr><th scope=row>11</th><td>11</td><td>Judye Hattrick  </td><td>17</td><td>Female</td><td>15:27</td></tr>\n",
              "</tbody>\n",
              "</table>\n"
            ],
            "text/markdown": "\nA data.frame: 10 × 5\n\n| <!--/--> | runner_bib &lt;int&gt; | runner_name &lt;chr&gt; | runner_age &lt;int&gt; | runner_gender &lt;chr&gt; | finish_time &lt;chr&gt; |\n|---|---|---|---|---|---|\n| 1 |  1 | Loydie Lopes     | 17 | Male   | 16:01 |\n| 2 |  2 | Lorens Crispe    | 33 | Male   | 15:40 |\n| 3 |  3 | Shirline Hasser  | 22 | Female | 14:20 |\n| 4 |  4 | Alleyn Hartshorn | 39 | Male   | 17:06 |\n| 5 |  5 | Wang MacColl     | 50 | Male   | 16:49 |\n| 6 |  6 | Tonnie Tidder    | 44 | Male   | 15:43 |\n| 8 |  8 | Basil Moxsom     | 44 | Male   | 15:16 |\n| 9 |  9 | Lark Bragge      | 30 | Female | 15:59 |\n| 10 | 10 | Kent Wakely      | 60 | Male   | 14:29 |\n| 11 | 11 | Judye Hattrick   | 17 | Female | 15:27 |\n\n",
            "text/latex": "A data.frame: 10 × 5\n\\begin{tabular}{r|lllll}\n  & runner\\_bib & runner\\_name & runner\\_age & runner\\_gender & finish\\_time\\\\\n  & <int> & <chr> & <int> & <chr> & <chr>\\\\\n\\hline\n\t1 &  1 & Loydie Lopes     & 17 & Male   & 16:01\\\\\n\t2 &  2 & Lorens Crispe    & 33 & Male   & 15:40\\\\\n\t3 &  3 & Shirline Hasser  & 22 & Female & 14:20\\\\\n\t4 &  4 & Alleyn Hartshorn & 39 & Male   & 17:06\\\\\n\t5 &  5 & Wang MacColl     & 50 & Male   & 16:49\\\\\n\t6 &  6 & Tonnie Tidder    & 44 & Male   & 15:43\\\\\n\t8 &  8 & Basil Moxsom     & 44 & Male   & 15:16\\\\\n\t9 &  9 & Lark Bragge      & 30 & Female & 15:59\\\\\n\t10 & 10 & Kent Wakely      & 60 & Male   & 14:29\\\\\n\t11 & 11 & Judye Hattrick   & 17 & Female & 15:27\\\\\n\\end{tabular}\n",
            "text/plain": [
              "   runner_bib runner_name      runner_age runner_gender finish_time\n",
              "1   1         Loydie Lopes     17         Male          16:01      \n",
              "2   2         Lorens Crispe    33         Male          15:40      \n",
              "3   3         Shirline Hasser  22         Female        14:20      \n",
              "4   4         Alleyn Hartshorn 39         Male          17:06      \n",
              "5   5         Wang MacColl     50         Male          16:49      \n",
              "6   6         Tonnie Tidder    44         Male          15:43      \n",
              "8   8         Basil Moxsom     44         Male          15:16      \n",
              "9   9         Lark Bragge      30         Female        15:59      \n",
              "10 10         Kent Wakely      60         Male          14:29      \n",
              "11 11         Judye Hattrick   17         Female        15:27      "
            ]
          },
          "metadata": {}
        }
      ]
    },
    {
      "cell_type": "markdown",
      "source": [
        "## 4. Calculate Elapsed Time (3 pts)"
      ],
      "metadata": {
        "id": "3-4dd8nsr_zF"
      }
    },
    {
      "cell_type": "markdown",
      "source": [
        "Using R, add a new column named `[\"finish_minutes\"]` to the dataframe that calculates the number of minutes it took for the runner to complete the race. Ideally this is a column consisting of plain integers.\n",
        "\n",
        "The starting gun was fired at precisely 12:00pm that day.\n",
        "\n",
        "Note: This is calculated using a built-in function of R, `difftime()` which takes 3 parameters:\n",
        "\n",
        "- End time\n",
        "- Start time\n",
        "- Units\n",
        "\n",
        "The result is an output that figures the difference between the two: `3 days`, `14 years`, `112 mins`, etc.\n",
        "\n",
        "The syntax for that function is below. Take care to use the proper order of parameters. The `as.POSIXct` casting makes it possible to read a long datetime in the `YYYY-MM-DDTHH:MM` format, a common `datetime` value. The `format` parameter specifies the pattern you are trying to read.\n",
        "\n",
        "```\n",
        "df$new-column <- (difftime( as.POSIXct(df$end-column, format=\"%Y-%m-%dT%H:%M\"),\n",
        "                            as.POSIXct(df$start-column, format=\"%Y-%m-%dT%H:%M\"),\n",
        "                            units=\"min\"))\n",
        "```"
      ],
      "metadata": {
        "id": "HrGLlM83vH0c"
      }
    },
    {
      "cell_type": "code",
      "source": [
        "df3$finish_time <- as.POSIXct(df3$finish_time, format=\"%H:%M\")\n",
        "\n",
        "df3$start_time <- as.POSIXct(\"2023-12-12T12:00\", format=\"%Y-%m-%dT%H:%M\")\n",
        "\n",
        "df3$start_time <- as.POSIXct(df3$start_time, format=\"%H:%M\")\n",
        "\n",
        "df3$finish_minutes <- (difftime( as.POSIXct(df3$finish_time, format=\"%H:%M\"),\n",
        "                            as.POSIXct(df3$start_time, format=\"%H:%M\"),\n",
        "                            units=\"min\"))\n",
        "\n",
        "df3$finish_minutes <- as.integer(df3$finish_minutes)\n",
        "\n",
        "head(df3)\n"
      ],
      "metadata": {
        "colab": {
          "base_uri": "https://localhost:8080/",
          "height": 286
        },
        "id": "h8hltHmDKVXB",
        "outputId": "b52f5ac0-10bc-46a2-ac61-593fca2af8ba"
      },
      "execution_count": 5,
      "outputs": [
        {
          "output_type": "display_data",
          "data": {
            "text/html": [
              "<table class=\"dataframe\">\n",
              "<caption>A data.frame: 6 × 7</caption>\n",
              "<thead>\n",
              "\t<tr><th></th><th scope=col>runner_bib</th><th scope=col>runner_name</th><th scope=col>runner_age</th><th scope=col>runner_gender</th><th scope=col>finish_time</th><th scope=col>start_time</th><th scope=col>finish_minutes</th></tr>\n",
              "\t<tr><th></th><th scope=col>&lt;int&gt;</th><th scope=col>&lt;chr&gt;</th><th scope=col>&lt;int&gt;</th><th scope=col>&lt;chr&gt;</th><th scope=col>&lt;dttm&gt;</th><th scope=col>&lt;dttm&gt;</th><th scope=col>&lt;int&gt;</th></tr>\n",
              "</thead>\n",
              "<tbody>\n",
              "\t<tr><th scope=row>1</th><td>1</td><td>Loydie Lopes    </td><td>17</td><td>Male  </td><td>2023-12-12 16:01:00</td><td>2023-12-12 12:00:00</td><td>241</td></tr>\n",
              "\t<tr><th scope=row>2</th><td>2</td><td>Lorens Crispe   </td><td>33</td><td>Male  </td><td>2023-12-12 15:40:00</td><td>2023-12-12 12:00:00</td><td>220</td></tr>\n",
              "\t<tr><th scope=row>3</th><td>3</td><td>Shirline Hasser </td><td>22</td><td>Female</td><td>2023-12-12 14:20:00</td><td>2023-12-12 12:00:00</td><td>140</td></tr>\n",
              "\t<tr><th scope=row>4</th><td>4</td><td>Alleyn Hartshorn</td><td>39</td><td>Male  </td><td>2023-12-12 17:06:00</td><td>2023-12-12 12:00:00</td><td>306</td></tr>\n",
              "\t<tr><th scope=row>5</th><td>5</td><td>Wang MacColl    </td><td>50</td><td>Male  </td><td>2023-12-12 16:49:00</td><td>2023-12-12 12:00:00</td><td>289</td></tr>\n",
              "\t<tr><th scope=row>6</th><td>6</td><td>Tonnie Tidder   </td><td>44</td><td>Male  </td><td>2023-12-12 15:43:00</td><td>2023-12-12 12:00:00</td><td>223</td></tr>\n",
              "</tbody>\n",
              "</table>\n"
            ],
            "text/markdown": "\nA data.frame: 6 × 7\n\n| <!--/--> | runner_bib &lt;int&gt; | runner_name &lt;chr&gt; | runner_age &lt;int&gt; | runner_gender &lt;chr&gt; | finish_time &lt;dttm&gt; | start_time &lt;dttm&gt; | finish_minutes &lt;int&gt; |\n|---|---|---|---|---|---|---|---|\n| 1 | 1 | Loydie Lopes     | 17 | Male   | 2023-12-12 16:01:00 | 2023-12-12 12:00:00 | 241 |\n| 2 | 2 | Lorens Crispe    | 33 | Male   | 2023-12-12 15:40:00 | 2023-12-12 12:00:00 | 220 |\n| 3 | 3 | Shirline Hasser  | 22 | Female | 2023-12-12 14:20:00 | 2023-12-12 12:00:00 | 140 |\n| 4 | 4 | Alleyn Hartshorn | 39 | Male   | 2023-12-12 17:06:00 | 2023-12-12 12:00:00 | 306 |\n| 5 | 5 | Wang MacColl     | 50 | Male   | 2023-12-12 16:49:00 | 2023-12-12 12:00:00 | 289 |\n| 6 | 6 | Tonnie Tidder    | 44 | Male   | 2023-12-12 15:43:00 | 2023-12-12 12:00:00 | 223 |\n\n",
            "text/latex": "A data.frame: 6 × 7\n\\begin{tabular}{r|lllllll}\n  & runner\\_bib & runner\\_name & runner\\_age & runner\\_gender & finish\\_time & start\\_time & finish\\_minutes\\\\\n  & <int> & <chr> & <int> & <chr> & <dttm> & <dttm> & <int>\\\\\n\\hline\n\t1 & 1 & Loydie Lopes     & 17 & Male   & 2023-12-12 16:01:00 & 2023-12-12 12:00:00 & 241\\\\\n\t2 & 2 & Lorens Crispe    & 33 & Male   & 2023-12-12 15:40:00 & 2023-12-12 12:00:00 & 220\\\\\n\t3 & 3 & Shirline Hasser  & 22 & Female & 2023-12-12 14:20:00 & 2023-12-12 12:00:00 & 140\\\\\n\t4 & 4 & Alleyn Hartshorn & 39 & Male   & 2023-12-12 17:06:00 & 2023-12-12 12:00:00 & 306\\\\\n\t5 & 5 & Wang MacColl     & 50 & Male   & 2023-12-12 16:49:00 & 2023-12-12 12:00:00 & 289\\\\\n\t6 & 6 & Tonnie Tidder    & 44 & Male   & 2023-12-12 15:43:00 & 2023-12-12 12:00:00 & 223\\\\\n\\end{tabular}\n",
            "text/plain": [
              "  runner_bib runner_name      runner_age runner_gender finish_time        \n",
              "1 1          Loydie Lopes     17         Male          2023-12-12 16:01:00\n",
              "2 2          Lorens Crispe    33         Male          2023-12-12 15:40:00\n",
              "3 3          Shirline Hasser  22         Female        2023-12-12 14:20:00\n",
              "4 4          Alleyn Hartshorn 39         Male          2023-12-12 17:06:00\n",
              "5 5          Wang MacColl     50         Male          2023-12-12 16:49:00\n",
              "6 6          Tonnie Tidder    44         Male          2023-12-12 15:43:00\n",
              "  start_time          finish_minutes\n",
              "1 2023-12-12 12:00:00 241           \n",
              "2 2023-12-12 12:00:00 220           \n",
              "3 2023-12-12 12:00:00 140           \n",
              "4 2023-12-12 12:00:00 306           \n",
              "5 2023-12-12 12:00:00 289           \n",
              "6 2023-12-12 12:00:00 223           "
            ]
          },
          "metadata": {}
        }
      ]
    },
    {
      "cell_type": "markdown",
      "source": [
        "## 5. Identify Winners by Gender (2 pts)"
      ],
      "metadata": {
        "id": "KKg8d9RDyeDa"
      }
    },
    {
      "cell_type": "markdown",
      "source": [
        "Based on the minutes it took each runner to complete the race, identify the top three places for each gender.\n",
        "\n",
        "There are several ways to do this, some of which require less code than others. You will only be graded for producing the correct output, not on how elegant/advanced your programming is."
      ],
      "metadata": {
        "id": "5kKBo3_sykGD"
      }
    },
    {
      "cell_type": "code",
      "source": [
        "#\n",
        "library(readr)\n",
        "library(dplyr)\n",
        "\n",
        "\n",
        "df4 <- df3[order(df3$finish_minutes),]\n",
        "unique(df3$runner_gender)\n",
        "\n",
        "males <- df3 %>%\n",
        "    filter(runner_gender == \"Male\") %>%\n",
        "    arrange(finish_minutes)\n",
        "    head(males, 3)\n",
        "\n",
        "females <- df3 %>%\n",
        "    filter(runner_gender == \"Female\") %>%\n",
        "    arrange(finish_minutes)\n",
        "    head(females, 3)\n",
        "\n",
        "nb <- df3 %>%\n",
        "    filter(runner_gender == \"Non-binary\") %>%\n",
        "    arrange(finish_minutes)\n",
        "    head(nb, 3)\n",
        "\n",
        "bi <- df3 %>%\n",
        "    filter(runner_gender == \"Bigender\") %>%\n",
        "    arrange(finish_minutes)\n",
        "    head(bi, 3)\n",
        "\n",
        "gf <- df3 %>%\n",
        "    filter(runner_gender == \"Genderfluid\") %>%\n",
        "    arrange(finish_minutes)\n",
        "    head(gf, 3)\n",
        "\n",
        "poly <- df3 %>%\n",
        "    filter(runner_gender == \"Polygender\") %>%\n",
        "    arrange(finish_minutes)\n",
        "    head(poly, 3)\n",
        "\n",
        "queer <- df3 %>%\n",
        "    filter(runner_gender == \"Genderqueer\") %>%\n",
        "    arrange(finish_minutes)\n",
        "    head(queer, 3)\n",
        "\n",
        "\n",
        "\n",
        "\n"
      ],
      "metadata": {
        "id": "xRlliRMY2_-c",
        "colab": {
          "base_uri": "https://localhost:8080/",
          "height": 1000
        },
        "outputId": "4df5565c-5584-4a78-e055-179e3a76a3d8"
      },
      "execution_count": 6,
      "outputs": [
        {
          "output_type": "display_data",
          "data": {
            "text/html": [
              "<style>\n",
              ".list-inline {list-style: none; margin:0; padding: 0}\n",
              ".list-inline>li {display: inline-block}\n",
              ".list-inline>li:not(:last-child)::after {content: \"\\00b7\"; padding: 0 .5ex}\n",
              "</style>\n",
              "<ol class=list-inline><li>'Male'</li><li>'Female'</li><li>'Agender'</li><li>'Non-binary'</li><li>'Bigender'</li><li>'Genderfluid'</li><li>'Polygender'</li><li>'Genderqueer'</li></ol>\n"
            ],
            "text/markdown": "1. 'Male'\n2. 'Female'\n3. 'Agender'\n4. 'Non-binary'\n5. 'Bigender'\n6. 'Genderfluid'\n7. 'Polygender'\n8. 'Genderqueer'\n\n\n",
            "text/latex": "\\begin{enumerate*}\n\\item 'Male'\n\\item 'Female'\n\\item 'Agender'\n\\item 'Non-binary'\n\\item 'Bigender'\n\\item 'Genderfluid'\n\\item 'Polygender'\n\\item 'Genderqueer'\n\\end{enumerate*}\n",
            "text/plain": [
              "[1] \"Male\"        \"Female\"      \"Agender\"     \"Non-binary\"  \"Bigender\"   \n",
              "[6] \"Genderfluid\" \"Polygender\"  \"Genderqueer\""
            ]
          },
          "metadata": {}
        },
        {
          "output_type": "display_data",
          "data": {
            "text/html": [
              "<table class=\"dataframe\">\n",
              "<caption>A data.frame: 3 × 7</caption>\n",
              "<thead>\n",
              "\t<tr><th></th><th scope=col>runner_bib</th><th scope=col>runner_name</th><th scope=col>runner_age</th><th scope=col>runner_gender</th><th scope=col>finish_time</th><th scope=col>start_time</th><th scope=col>finish_minutes</th></tr>\n",
              "\t<tr><th></th><th scope=col>&lt;int&gt;</th><th scope=col>&lt;chr&gt;</th><th scope=col>&lt;int&gt;</th><th scope=col>&lt;chr&gt;</th><th scope=col>&lt;dttm&gt;</th><th scope=col>&lt;dttm&gt;</th><th scope=col>&lt;int&gt;</th></tr>\n",
              "</thead>\n",
              "<tbody>\n",
              "\t<tr><th scope=row>1</th><td>393</td><td>Ker Dearden    </td><td>62</td><td>Male</td><td>2023-12-12 14:15:00</td><td>2023-12-12 12:00:00</td><td>135</td></tr>\n",
              "\t<tr><th scope=row>2</th><td>114</td><td>Arin Maffezzoli</td><td>52</td><td>Male</td><td>2023-12-12 14:18:00</td><td>2023-12-12 12:00:00</td><td>138</td></tr>\n",
              "\t<tr><th scope=row>3</th><td>325</td><td>Holt Teissier  </td><td>36</td><td>Male</td><td>2023-12-12 14:18:00</td><td>2023-12-12 12:00:00</td><td>138</td></tr>\n",
              "</tbody>\n",
              "</table>\n"
            ],
            "text/markdown": "\nA data.frame: 3 × 7\n\n| <!--/--> | runner_bib &lt;int&gt; | runner_name &lt;chr&gt; | runner_age &lt;int&gt; | runner_gender &lt;chr&gt; | finish_time &lt;dttm&gt; | start_time &lt;dttm&gt; | finish_minutes &lt;int&gt; |\n|---|---|---|---|---|---|---|---|\n| 1 | 393 | Ker Dearden     | 62 | Male | 2023-12-12 14:15:00 | 2023-12-12 12:00:00 | 135 |\n| 2 | 114 | Arin Maffezzoli | 52 | Male | 2023-12-12 14:18:00 | 2023-12-12 12:00:00 | 138 |\n| 3 | 325 | Holt Teissier   | 36 | Male | 2023-12-12 14:18:00 | 2023-12-12 12:00:00 | 138 |\n\n",
            "text/latex": "A data.frame: 3 × 7\n\\begin{tabular}{r|lllllll}\n  & runner\\_bib & runner\\_name & runner\\_age & runner\\_gender & finish\\_time & start\\_time & finish\\_minutes\\\\\n  & <int> & <chr> & <int> & <chr> & <dttm> & <dttm> & <int>\\\\\n\\hline\n\t1 & 393 & Ker Dearden     & 62 & Male & 2023-12-12 14:15:00 & 2023-12-12 12:00:00 & 135\\\\\n\t2 & 114 & Arin Maffezzoli & 52 & Male & 2023-12-12 14:18:00 & 2023-12-12 12:00:00 & 138\\\\\n\t3 & 325 & Holt Teissier   & 36 & Male & 2023-12-12 14:18:00 & 2023-12-12 12:00:00 & 138\\\\\n\\end{tabular}\n",
            "text/plain": [
              "  runner_bib runner_name     runner_age runner_gender finish_time        \n",
              "1 393        Ker Dearden     62         Male          2023-12-12 14:15:00\n",
              "2 114        Arin Maffezzoli 52         Male          2023-12-12 14:18:00\n",
              "3 325        Holt Teissier   36         Male          2023-12-12 14:18:00\n",
              "  start_time          finish_minutes\n",
              "1 2023-12-12 12:00:00 135           \n",
              "2 2023-12-12 12:00:00 138           \n",
              "3 2023-12-12 12:00:00 138           "
            ]
          },
          "metadata": {}
        },
        {
          "output_type": "display_data",
          "data": {
            "text/html": [
              "<table class=\"dataframe\">\n",
              "<caption>A data.frame: 3 × 7</caption>\n",
              "<thead>\n",
              "\t<tr><th></th><th scope=col>runner_bib</th><th scope=col>runner_name</th><th scope=col>runner_age</th><th scope=col>runner_gender</th><th scope=col>finish_time</th><th scope=col>start_time</th><th scope=col>finish_minutes</th></tr>\n",
              "\t<tr><th></th><th scope=col>&lt;int&gt;</th><th scope=col>&lt;chr&gt;</th><th scope=col>&lt;int&gt;</th><th scope=col>&lt;chr&gt;</th><th scope=col>&lt;dttm&gt;</th><th scope=col>&lt;dttm&gt;</th><th scope=col>&lt;int&gt;</th></tr>\n",
              "</thead>\n",
              "<tbody>\n",
              "\t<tr><th scope=row>1</th><td> 21</td><td>Carmencita Petrishchev</td><td>20</td><td>Female</td><td>2023-12-12 14:15:00</td><td>2023-12-12 12:00:00</td><td>135</td></tr>\n",
              "\t<tr><th scope=row>2</th><td>134</td><td>Marylin Standering    </td><td>18</td><td>Female</td><td>2023-12-12 14:15:00</td><td>2023-12-12 12:00:00</td><td>135</td></tr>\n",
              "\t<tr><th scope=row>3</th><td>238</td><td>Melloney Fonteyne     </td><td>20</td><td>Female</td><td>2023-12-12 14:15:00</td><td>2023-12-12 12:00:00</td><td>135</td></tr>\n",
              "</tbody>\n",
              "</table>\n"
            ],
            "text/markdown": "\nA data.frame: 3 × 7\n\n| <!--/--> | runner_bib &lt;int&gt; | runner_name &lt;chr&gt; | runner_age &lt;int&gt; | runner_gender &lt;chr&gt; | finish_time &lt;dttm&gt; | start_time &lt;dttm&gt; | finish_minutes &lt;int&gt; |\n|---|---|---|---|---|---|---|---|\n| 1 |  21 | Carmencita Petrishchev | 20 | Female | 2023-12-12 14:15:00 | 2023-12-12 12:00:00 | 135 |\n| 2 | 134 | Marylin Standering     | 18 | Female | 2023-12-12 14:15:00 | 2023-12-12 12:00:00 | 135 |\n| 3 | 238 | Melloney Fonteyne      | 20 | Female | 2023-12-12 14:15:00 | 2023-12-12 12:00:00 | 135 |\n\n",
            "text/latex": "A data.frame: 3 × 7\n\\begin{tabular}{r|lllllll}\n  & runner\\_bib & runner\\_name & runner\\_age & runner\\_gender & finish\\_time & start\\_time & finish\\_minutes\\\\\n  & <int> & <chr> & <int> & <chr> & <dttm> & <dttm> & <int>\\\\\n\\hline\n\t1 &  21 & Carmencita Petrishchev & 20 & Female & 2023-12-12 14:15:00 & 2023-12-12 12:00:00 & 135\\\\\n\t2 & 134 & Marylin Standering     & 18 & Female & 2023-12-12 14:15:00 & 2023-12-12 12:00:00 & 135\\\\\n\t3 & 238 & Melloney Fonteyne      & 20 & Female & 2023-12-12 14:15:00 & 2023-12-12 12:00:00 & 135\\\\\n\\end{tabular}\n",
            "text/plain": [
              "  runner_bib runner_name            runner_age runner_gender\n",
              "1  21        Carmencita Petrishchev 20         Female       \n",
              "2 134        Marylin Standering     18         Female       \n",
              "3 238        Melloney Fonteyne      20         Female       \n",
              "  finish_time         start_time          finish_minutes\n",
              "1 2023-12-12 14:15:00 2023-12-12 12:00:00 135           \n",
              "2 2023-12-12 14:15:00 2023-12-12 12:00:00 135           \n",
              "3 2023-12-12 14:15:00 2023-12-12 12:00:00 135           "
            ]
          },
          "metadata": {}
        },
        {
          "output_type": "display_data",
          "data": {
            "text/html": [
              "<table class=\"dataframe\">\n",
              "<caption>A data.frame: 3 × 7</caption>\n",
              "<thead>\n",
              "\t<tr><th></th><th scope=col>runner_bib</th><th scope=col>runner_name</th><th scope=col>runner_age</th><th scope=col>runner_gender</th><th scope=col>finish_time</th><th scope=col>start_time</th><th scope=col>finish_minutes</th></tr>\n",
              "\t<tr><th></th><th scope=col>&lt;int&gt;</th><th scope=col>&lt;chr&gt;</th><th scope=col>&lt;int&gt;</th><th scope=col>&lt;chr&gt;</th><th scope=col>&lt;dttm&gt;</th><th scope=col>&lt;dttm&gt;</th><th scope=col>&lt;int&gt;</th></tr>\n",
              "</thead>\n",
              "<tbody>\n",
              "\t<tr><th scope=row>1</th><td>341</td><td>Gaylor Buckett   </td><td>17</td><td>Non-binary</td><td>2023-12-12 14:29:00</td><td>2023-12-12 12:00:00</td><td>149</td></tr>\n",
              "\t<tr><th scope=row>2</th><td> 38</td><td>Mellie Merryfield</td><td>54</td><td>Non-binary</td><td>2023-12-12 15:03:00</td><td>2023-12-12 12:00:00</td><td>183</td></tr>\n",
              "\t<tr><th scope=row>3</th><td>426</td><td>Base Dukes       </td><td>62</td><td>Non-binary</td><td>2023-12-12 15:19:00</td><td>2023-12-12 12:00:00</td><td>199</td></tr>\n",
              "</tbody>\n",
              "</table>\n"
            ],
            "text/markdown": "\nA data.frame: 3 × 7\n\n| <!--/--> | runner_bib &lt;int&gt; | runner_name &lt;chr&gt; | runner_age &lt;int&gt; | runner_gender &lt;chr&gt; | finish_time &lt;dttm&gt; | start_time &lt;dttm&gt; | finish_minutes &lt;int&gt; |\n|---|---|---|---|---|---|---|---|\n| 1 | 341 | Gaylor Buckett    | 17 | Non-binary | 2023-12-12 14:29:00 | 2023-12-12 12:00:00 | 149 |\n| 2 |  38 | Mellie Merryfield | 54 | Non-binary | 2023-12-12 15:03:00 | 2023-12-12 12:00:00 | 183 |\n| 3 | 426 | Base Dukes        | 62 | Non-binary | 2023-12-12 15:19:00 | 2023-12-12 12:00:00 | 199 |\n\n",
            "text/latex": "A data.frame: 3 × 7\n\\begin{tabular}{r|lllllll}\n  & runner\\_bib & runner\\_name & runner\\_age & runner\\_gender & finish\\_time & start\\_time & finish\\_minutes\\\\\n  & <int> & <chr> & <int> & <chr> & <dttm> & <dttm> & <int>\\\\\n\\hline\n\t1 & 341 & Gaylor Buckett    & 17 & Non-binary & 2023-12-12 14:29:00 & 2023-12-12 12:00:00 & 149\\\\\n\t2 &  38 & Mellie Merryfield & 54 & Non-binary & 2023-12-12 15:03:00 & 2023-12-12 12:00:00 & 183\\\\\n\t3 & 426 & Base Dukes        & 62 & Non-binary & 2023-12-12 15:19:00 & 2023-12-12 12:00:00 & 199\\\\\n\\end{tabular}\n",
            "text/plain": [
              "  runner_bib runner_name       runner_age runner_gender finish_time        \n",
              "1 341        Gaylor Buckett    17         Non-binary    2023-12-12 14:29:00\n",
              "2  38        Mellie Merryfield 54         Non-binary    2023-12-12 15:03:00\n",
              "3 426        Base Dukes        62         Non-binary    2023-12-12 15:19:00\n",
              "  start_time          finish_minutes\n",
              "1 2023-12-12 12:00:00 149           \n",
              "2 2023-12-12 12:00:00 183           \n",
              "3 2023-12-12 12:00:00 199           "
            ]
          },
          "metadata": {}
        },
        {
          "output_type": "display_data",
          "data": {
            "text/html": [
              "<table class=\"dataframe\">\n",
              "<caption>A data.frame: 3 × 7</caption>\n",
              "<thead>\n",
              "\t<tr><th></th><th scope=col>runner_bib</th><th scope=col>runner_name</th><th scope=col>runner_age</th><th scope=col>runner_gender</th><th scope=col>finish_time</th><th scope=col>start_time</th><th scope=col>finish_minutes</th></tr>\n",
              "\t<tr><th></th><th scope=col>&lt;int&gt;</th><th scope=col>&lt;chr&gt;</th><th scope=col>&lt;int&gt;</th><th scope=col>&lt;chr&gt;</th><th scope=col>&lt;dttm&gt;</th><th scope=col>&lt;dttm&gt;</th><th scope=col>&lt;int&gt;</th></tr>\n",
              "</thead>\n",
              "<tbody>\n",
              "\t<tr><th scope=row>1</th><td>249</td><td>Sephira Kirgan     </td><td>33</td><td>Bigender</td><td>2023-12-12 14:24:00</td><td>2023-12-12 12:00:00</td><td>144</td></tr>\n",
              "\t<tr><th scope=row>2</th><td>546</td><td>Chauncey Langthorne</td><td>16</td><td>Bigender</td><td>2023-12-12 14:29:00</td><td>2023-12-12 12:00:00</td><td>149</td></tr>\n",
              "\t<tr><th scope=row>3</th><td>263</td><td>Ernestus Draper    </td><td>45</td><td>Bigender</td><td>2023-12-12 14:58:00</td><td>2023-12-12 12:00:00</td><td>178</td></tr>\n",
              "</tbody>\n",
              "</table>\n"
            ],
            "text/markdown": "\nA data.frame: 3 × 7\n\n| <!--/--> | runner_bib &lt;int&gt; | runner_name &lt;chr&gt; | runner_age &lt;int&gt; | runner_gender &lt;chr&gt; | finish_time &lt;dttm&gt; | start_time &lt;dttm&gt; | finish_minutes &lt;int&gt; |\n|---|---|---|---|---|---|---|---|\n| 1 | 249 | Sephira Kirgan      | 33 | Bigender | 2023-12-12 14:24:00 | 2023-12-12 12:00:00 | 144 |\n| 2 | 546 | Chauncey Langthorne | 16 | Bigender | 2023-12-12 14:29:00 | 2023-12-12 12:00:00 | 149 |\n| 3 | 263 | Ernestus Draper     | 45 | Bigender | 2023-12-12 14:58:00 | 2023-12-12 12:00:00 | 178 |\n\n",
            "text/latex": "A data.frame: 3 × 7\n\\begin{tabular}{r|lllllll}\n  & runner\\_bib & runner\\_name & runner\\_age & runner\\_gender & finish\\_time & start\\_time & finish\\_minutes\\\\\n  & <int> & <chr> & <int> & <chr> & <dttm> & <dttm> & <int>\\\\\n\\hline\n\t1 & 249 & Sephira Kirgan      & 33 & Bigender & 2023-12-12 14:24:00 & 2023-12-12 12:00:00 & 144\\\\\n\t2 & 546 & Chauncey Langthorne & 16 & Bigender & 2023-12-12 14:29:00 & 2023-12-12 12:00:00 & 149\\\\\n\t3 & 263 & Ernestus Draper     & 45 & Bigender & 2023-12-12 14:58:00 & 2023-12-12 12:00:00 & 178\\\\\n\\end{tabular}\n",
            "text/plain": [
              "  runner_bib runner_name         runner_age runner_gender finish_time        \n",
              "1 249        Sephira Kirgan      33         Bigender      2023-12-12 14:24:00\n",
              "2 546        Chauncey Langthorne 16         Bigender      2023-12-12 14:29:00\n",
              "3 263        Ernestus Draper     45         Bigender      2023-12-12 14:58:00\n",
              "  start_time          finish_minutes\n",
              "1 2023-12-12 12:00:00 144           \n",
              "2 2023-12-12 12:00:00 149           \n",
              "3 2023-12-12 12:00:00 178           "
            ]
          },
          "metadata": {}
        },
        {
          "output_type": "display_data",
          "data": {
            "text/html": [
              "<table class=\"dataframe\">\n",
              "<caption>A data.frame: 3 × 7</caption>\n",
              "<thead>\n",
              "\t<tr><th></th><th scope=col>runner_bib</th><th scope=col>runner_name</th><th scope=col>runner_age</th><th scope=col>runner_gender</th><th scope=col>finish_time</th><th scope=col>start_time</th><th scope=col>finish_minutes</th></tr>\n",
              "\t<tr><th></th><th scope=col>&lt;int&gt;</th><th scope=col>&lt;chr&gt;</th><th scope=col>&lt;int&gt;</th><th scope=col>&lt;chr&gt;</th><th scope=col>&lt;dttm&gt;</th><th scope=col>&lt;dttm&gt;</th><th scope=col>&lt;int&gt;</th></tr>\n",
              "</thead>\n",
              "<tbody>\n",
              "\t<tr><th scope=row>1</th><td>152</td><td>Patrice Draye</td><td>18</td><td>Genderfluid</td><td>2023-12-12 14:15:00</td><td>2023-12-12 12:00:00</td><td>135</td></tr>\n",
              "\t<tr><th scope=row>2</th><td>606</td><td>Nonna Restill</td><td>57</td><td>Genderfluid</td><td>2023-12-12 14:24:00</td><td>2023-12-12 12:00:00</td><td>144</td></tr>\n",
              "\t<tr><th scope=row>3</th><td>421</td><td>Neysa Willatt</td><td>60</td><td>Genderfluid</td><td>2023-12-12 14:33:00</td><td>2023-12-12 12:00:00</td><td>153</td></tr>\n",
              "</tbody>\n",
              "</table>\n"
            ],
            "text/markdown": "\nA data.frame: 3 × 7\n\n| <!--/--> | runner_bib &lt;int&gt; | runner_name &lt;chr&gt; | runner_age &lt;int&gt; | runner_gender &lt;chr&gt; | finish_time &lt;dttm&gt; | start_time &lt;dttm&gt; | finish_minutes &lt;int&gt; |\n|---|---|---|---|---|---|---|---|\n| 1 | 152 | Patrice Draye | 18 | Genderfluid | 2023-12-12 14:15:00 | 2023-12-12 12:00:00 | 135 |\n| 2 | 606 | Nonna Restill | 57 | Genderfluid | 2023-12-12 14:24:00 | 2023-12-12 12:00:00 | 144 |\n| 3 | 421 | Neysa Willatt | 60 | Genderfluid | 2023-12-12 14:33:00 | 2023-12-12 12:00:00 | 153 |\n\n",
            "text/latex": "A data.frame: 3 × 7\n\\begin{tabular}{r|lllllll}\n  & runner\\_bib & runner\\_name & runner\\_age & runner\\_gender & finish\\_time & start\\_time & finish\\_minutes\\\\\n  & <int> & <chr> & <int> & <chr> & <dttm> & <dttm> & <int>\\\\\n\\hline\n\t1 & 152 & Patrice Draye & 18 & Genderfluid & 2023-12-12 14:15:00 & 2023-12-12 12:00:00 & 135\\\\\n\t2 & 606 & Nonna Restill & 57 & Genderfluid & 2023-12-12 14:24:00 & 2023-12-12 12:00:00 & 144\\\\\n\t3 & 421 & Neysa Willatt & 60 & Genderfluid & 2023-12-12 14:33:00 & 2023-12-12 12:00:00 & 153\\\\\n\\end{tabular}\n",
            "text/plain": [
              "  runner_bib runner_name   runner_age runner_gender finish_time        \n",
              "1 152        Patrice Draye 18         Genderfluid   2023-12-12 14:15:00\n",
              "2 606        Nonna Restill 57         Genderfluid   2023-12-12 14:24:00\n",
              "3 421        Neysa Willatt 60         Genderfluid   2023-12-12 14:33:00\n",
              "  start_time          finish_minutes\n",
              "1 2023-12-12 12:00:00 135           \n",
              "2 2023-12-12 12:00:00 144           \n",
              "3 2023-12-12 12:00:00 153           "
            ]
          },
          "metadata": {}
        },
        {
          "output_type": "display_data",
          "data": {
            "text/html": [
              "<table class=\"dataframe\">\n",
              "<caption>A data.frame: 3 × 7</caption>\n",
              "<thead>\n",
              "\t<tr><th></th><th scope=col>runner_bib</th><th scope=col>runner_name</th><th scope=col>runner_age</th><th scope=col>runner_gender</th><th scope=col>finish_time</th><th scope=col>start_time</th><th scope=col>finish_minutes</th></tr>\n",
              "\t<tr><th></th><th scope=col>&lt;int&gt;</th><th scope=col>&lt;chr&gt;</th><th scope=col>&lt;int&gt;</th><th scope=col>&lt;chr&gt;</th><th scope=col>&lt;dttm&gt;</th><th scope=col>&lt;dttm&gt;</th><th scope=col>&lt;int&gt;</th></tr>\n",
              "</thead>\n",
              "<tbody>\n",
              "\t<tr><th scope=row>1</th><td>283</td><td>Karyl Pyne      </td><td>38</td><td>Polygender</td><td>2023-12-12 14:21:00</td><td>2023-12-12 12:00:00</td><td>141</td></tr>\n",
              "\t<tr><th scope=row>2</th><td>356</td><td>Alair Blyde     </td><td>42</td><td>Polygender</td><td>2023-12-12 14:27:00</td><td>2023-12-12 12:00:00</td><td>147</td></tr>\n",
              "\t<tr><th scope=row>3</th><td>578</td><td>Dagmar Bedburrow</td><td>47</td><td>Polygender</td><td>2023-12-12 14:49:00</td><td>2023-12-12 12:00:00</td><td>169</td></tr>\n",
              "</tbody>\n",
              "</table>\n"
            ],
            "text/markdown": "\nA data.frame: 3 × 7\n\n| <!--/--> | runner_bib &lt;int&gt; | runner_name &lt;chr&gt; | runner_age &lt;int&gt; | runner_gender &lt;chr&gt; | finish_time &lt;dttm&gt; | start_time &lt;dttm&gt; | finish_minutes &lt;int&gt; |\n|---|---|---|---|---|---|---|---|\n| 1 | 283 | Karyl Pyne       | 38 | Polygender | 2023-12-12 14:21:00 | 2023-12-12 12:00:00 | 141 |\n| 2 | 356 | Alair Blyde      | 42 | Polygender | 2023-12-12 14:27:00 | 2023-12-12 12:00:00 | 147 |\n| 3 | 578 | Dagmar Bedburrow | 47 | Polygender | 2023-12-12 14:49:00 | 2023-12-12 12:00:00 | 169 |\n\n",
            "text/latex": "A data.frame: 3 × 7\n\\begin{tabular}{r|lllllll}\n  & runner\\_bib & runner\\_name & runner\\_age & runner\\_gender & finish\\_time & start\\_time & finish\\_minutes\\\\\n  & <int> & <chr> & <int> & <chr> & <dttm> & <dttm> & <int>\\\\\n\\hline\n\t1 & 283 & Karyl Pyne       & 38 & Polygender & 2023-12-12 14:21:00 & 2023-12-12 12:00:00 & 141\\\\\n\t2 & 356 & Alair Blyde      & 42 & Polygender & 2023-12-12 14:27:00 & 2023-12-12 12:00:00 & 147\\\\\n\t3 & 578 & Dagmar Bedburrow & 47 & Polygender & 2023-12-12 14:49:00 & 2023-12-12 12:00:00 & 169\\\\\n\\end{tabular}\n",
            "text/plain": [
              "  runner_bib runner_name      runner_age runner_gender finish_time        \n",
              "1 283        Karyl Pyne       38         Polygender    2023-12-12 14:21:00\n",
              "2 356        Alair Blyde      42         Polygender    2023-12-12 14:27:00\n",
              "3 578        Dagmar Bedburrow 47         Polygender    2023-12-12 14:49:00\n",
              "  start_time          finish_minutes\n",
              "1 2023-12-12 12:00:00 141           \n",
              "2 2023-12-12 12:00:00 147           \n",
              "3 2023-12-12 12:00:00 169           "
            ]
          },
          "metadata": {}
        },
        {
          "output_type": "display_data",
          "data": {
            "text/html": [
              "<table class=\"dataframe\">\n",
              "<caption>A data.frame: 3 × 7</caption>\n",
              "<thead>\n",
              "\t<tr><th></th><th scope=col>runner_bib</th><th scope=col>runner_name</th><th scope=col>runner_age</th><th scope=col>runner_gender</th><th scope=col>finish_time</th><th scope=col>start_time</th><th scope=col>finish_minutes</th></tr>\n",
              "\t<tr><th></th><th scope=col>&lt;int&gt;</th><th scope=col>&lt;chr&gt;</th><th scope=col>&lt;int&gt;</th><th scope=col>&lt;chr&gt;</th><th scope=col>&lt;dttm&gt;</th><th scope=col>&lt;dttm&gt;</th><th scope=col>&lt;int&gt;</th></tr>\n",
              "</thead>\n",
              "<tbody>\n",
              "\t<tr><th scope=row>1</th><td>547</td><td>Patin Dawidowitsch</td><td>17</td><td>Genderqueer</td><td>2023-12-12 15:27:00</td><td>2023-12-12 12:00:00</td><td>207</td></tr>\n",
              "\t<tr><th scope=row>2</th><td>527</td><td>Bobby Sykes       </td><td>52</td><td>Genderqueer</td><td>2023-12-12 15:28:00</td><td>2023-12-12 12:00:00</td><td>208</td></tr>\n",
              "\t<tr><th scope=row>3</th><td>590</td><td>Abigale Beedle    </td><td>41</td><td>Genderqueer</td><td>2023-12-12 15:34:00</td><td>2023-12-12 12:00:00</td><td>214</td></tr>\n",
              "</tbody>\n",
              "</table>\n"
            ],
            "text/markdown": "\nA data.frame: 3 × 7\n\n| <!--/--> | runner_bib &lt;int&gt; | runner_name &lt;chr&gt; | runner_age &lt;int&gt; | runner_gender &lt;chr&gt; | finish_time &lt;dttm&gt; | start_time &lt;dttm&gt; | finish_minutes &lt;int&gt; |\n|---|---|---|---|---|---|---|---|\n| 1 | 547 | Patin Dawidowitsch | 17 | Genderqueer | 2023-12-12 15:27:00 | 2023-12-12 12:00:00 | 207 |\n| 2 | 527 | Bobby Sykes        | 52 | Genderqueer | 2023-12-12 15:28:00 | 2023-12-12 12:00:00 | 208 |\n| 3 | 590 | Abigale Beedle     | 41 | Genderqueer | 2023-12-12 15:34:00 | 2023-12-12 12:00:00 | 214 |\n\n",
            "text/latex": "A data.frame: 3 × 7\n\\begin{tabular}{r|lllllll}\n  & runner\\_bib & runner\\_name & runner\\_age & runner\\_gender & finish\\_time & start\\_time & finish\\_minutes\\\\\n  & <int> & <chr> & <int> & <chr> & <dttm> & <dttm> & <int>\\\\\n\\hline\n\t1 & 547 & Patin Dawidowitsch & 17 & Genderqueer & 2023-12-12 15:27:00 & 2023-12-12 12:00:00 & 207\\\\\n\t2 & 527 & Bobby Sykes        & 52 & Genderqueer & 2023-12-12 15:28:00 & 2023-12-12 12:00:00 & 208\\\\\n\t3 & 590 & Abigale Beedle     & 41 & Genderqueer & 2023-12-12 15:34:00 & 2023-12-12 12:00:00 & 214\\\\\n\\end{tabular}\n",
            "text/plain": [
              "  runner_bib runner_name        runner_age runner_gender finish_time        \n",
              "1 547        Patin Dawidowitsch 17         Genderqueer   2023-12-12 15:27:00\n",
              "2 527        Bobby Sykes        52         Genderqueer   2023-12-12 15:28:00\n",
              "3 590        Abigale Beedle     41         Genderqueer   2023-12-12 15:34:00\n",
              "  start_time          finish_minutes\n",
              "1 2023-12-12 12:00:00 207           \n",
              "2 2023-12-12 12:00:00 208           \n",
              "3 2023-12-12 12:00:00 214           "
            ]
          },
          "metadata": {}
        }
      ]
    },
    {
      "cell_type": "markdown",
      "source": [
        "## 6. Plot the Data (3 pts)"
      ],
      "metadata": {
        "id": "2B9dxJbno0s0"
      }
    },
    {
      "cell_type": "markdown",
      "source": [
        "Finally, using `ggplot2` create two plots of the data -- density plots of race finishers.\n",
        "\n",
        "- In the first plot use `finish_minutes` as the x axis.\n",
        "- In the second plot use `runner_age` as the x axis.\n",
        "- Use `runner_gender` as the fill.\n",
        "- We suggest using a `geom_density(alpha=0.2)` or therabouts to see layers through one another.\n",
        "- Use the `gridExtra` library's `grid.arrange()` method to plot them both.\n",
        "\n",
        "You will note that since this is artificial data you will be able to see the gender layers clearly enough but they will not be statistically meaningful."
      ],
      "metadata": {
        "id": "LwMrL6-AplCH"
      }
    },
    {
      "cell_type": "code",
      "source": [
        "#\n",
        "library(tidyverse)\n",
        "library(ggplot2)\n",
        "install.packages(\"gapminder\")\n",
        "library(gapminder)\n",
        "\n",
        "ggplot(df3, aes(x = finish_minutes)) + geom_density(alpha=0.2)\n",
        "\n",
        "\n",
        "ggplot(df3, aes(x = runner_age)) + geom_density(alpha=0.2)"
      ],
      "metadata": {
        "id": "9vDIw9YeERNx",
        "colab": {
          "base_uri": "https://localhost:8080/",
          "height": 1000
        },
        "outputId": "5c41f98e-401a-4933-f4ec-e4a0c521a344"
      },
      "execution_count": 7,
      "outputs": [
        {
          "output_type": "stream",
          "name": "stderr",
          "text": [
            "── \u001b[1mAttaching core tidyverse packages\u001b[22m ──────────────────────── tidyverse 2.0.0 ──\n",
            "\u001b[32m✔\u001b[39m \u001b[34mforcats  \u001b[39m 1.0.0     \u001b[32m✔\u001b[39m \u001b[34mstringr  \u001b[39m 1.5.1\n",
            "\u001b[32m✔\u001b[39m \u001b[34mggplot2  \u001b[39m 3.4.4     \u001b[32m✔\u001b[39m \u001b[34mtibble   \u001b[39m 3.2.1\n",
            "\u001b[32m✔\u001b[39m \u001b[34mlubridate\u001b[39m 1.9.3     \u001b[32m✔\u001b[39m \u001b[34mtidyr    \u001b[39m 1.3.0\n",
            "\u001b[32m✔\u001b[39m \u001b[34mpurrr    \u001b[39m 1.0.2     \n",
            "── \u001b[1mConflicts\u001b[22m ────────────────────────────────────────── tidyverse_conflicts() ──\n",
            "\u001b[31m✖\u001b[39m \u001b[34mdplyr\u001b[39m::\u001b[32mfilter()\u001b[39m masks \u001b[34mstats\u001b[39m::filter()\n",
            "\u001b[31m✖\u001b[39m \u001b[34mdplyr\u001b[39m::\u001b[32mlag()\u001b[39m    masks \u001b[34mstats\u001b[39m::lag()\n",
            "\u001b[36mℹ\u001b[39m Use the conflicted package (\u001b[3m\u001b[34m<http://conflicted.r-lib.org/>\u001b[39m\u001b[23m) to force all conflicts to become errors\n",
            "Installing package into ‘/usr/local/lib/R/site-library’\n",
            "(as ‘lib’ is unspecified)\n",
            "\n"
          ]
        },
        {
          "output_type": "display_data",
          "data": {
            "text/plain": [
              "plot without title"
            ],
            "image/png": "[encoded data removed]"
          },
          "metadata": {
            "image/png": {
              "width": 420,
              "height": 420
            }
          }
        },
        {
          "output_type": "display_data",
          "data": {
            "text/plain": [
              "plot without title"
            ],
            "image/png": "[encoded data removed]"
          },
          "metadata": {
            "image/png": {
              "width": 420,
              "height": 420
            }
          }
        }
      ]
    }
  ]
}